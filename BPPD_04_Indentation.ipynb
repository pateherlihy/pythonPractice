{
 "cells": [
  {
   "cell_type": "code",
   "execution_count": 1,
   "id": "6e407ef6",
   "metadata": {},
   "outputs": [
    {
     "name": "stdout",
     "output_type": "stream",
     "text": [
      "This is a really long line of text that will appear on multiple lines in the source code file.\n"
     ]
    }
   ],
   "source": [
    "print(\"This is a really long line of text that will \" +\n",
    "     \"appear on multiple lines in the source code file.\")\n"
   ]
  },
  {
   "cell_type": "code",
   "execution_count": null,
   "id": "fad0bf55",
   "metadata": {},
   "outputs": [],
   "source": []
  }
 ],
 "metadata": {
  "kernelspec": {
   "display_name": "Python 3",
   "language": "python",
   "name": "python3"
  },
  "language_info": {
   "codemirror_mode": {
    "name": "ipython",
    "version": 3
   },
   "file_extension": ".py",
   "mimetype": "text/x-python",
   "name": "python",
   "nbconvert_exporter": "python",
   "pygments_lexer": "ipython3",
   "version": "3.8.8"
  }
 },
 "nbformat": 4,
 "nbformat_minor": 5
}
